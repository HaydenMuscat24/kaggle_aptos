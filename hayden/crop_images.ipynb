{
 "cells": [
  {
   "cell_type": "code",
   "execution_count": 1,
   "metadata": {},
   "outputs": [],
   "source": [
    "import os\n",
    "import cv2\n",
    "\n",
    "def squareUp(gray, rgb):\n",
    "    \n",
    "    thresh = 5\n",
    "    \n",
    "    # remove any black regions, where black is y under the threshold\n",
    "    rowMaxes = gray.max(axis=1)\n",
    "    top = 0\n",
    "    while rowMaxes[top] < thresh:\n",
    "        top += 1\n",
    "    bottom = len(rowMaxes) - 1\n",
    "    while rowMaxes[bottom] < thresh:\n",
    "        bottom -= 1\n",
    "        \n",
    "    middleRow = gray[int((bottom-top)/2)]\n",
    "    left = 0\n",
    "    while middleRow[left] < thresh:\n",
    "        left += 1\n",
    "    right = len(middleRow) - 1\n",
    "    while middleRow[right] < thresh:\n",
    "        right -= 1\n",
    "        \n",
    "    height = bottom - top\n",
    "    width  = right - left\n",
    "        \n",
    "    if height < 100 or width < 100:\n",
    "        print(\"Error: squareUp: bottom:\", bottom, \"top:\", top)\n",
    "        print(\"Error: squareUp: right:\", right, \"left:\", left)\n",
    "        return rgb\n",
    "    \n",
    "    return rgb[top:bottom, left:right]\n",
    "    \n"
   ]
  },
  {
   "cell_type": "code",
   "execution_count": null,
   "metadata": {},
   "outputs": [
    {
     "name": "stdout",
     "output_type": "stream",
     "text": [
      "0\n",
      "1000\n",
      "2000\n",
      "3000\n"
     ]
    }
   ],
   "source": [
    "directory = \"../aptos2015/train_images/\" \n",
    "count = 0\n",
    "for file in os.listdir(directory):\n",
    "    if not file.endswith(\".jpeg\"): \n",
    "        print(\"found weird file:\", file)\n",
    "        exit()\n",
    "        \n",
    "    file_full = directory + file\n",
    "        \n",
    "    img = cv2.imread(file_full)\n",
    "    \n",
    "    gray = cv2.cvtColor(img, cv2.COLOR_BGR2GRAY)\n",
    "    reduced = squareUp(gray, img)\n",
    "    \n",
    "    cv2.imwrite(file_full, reduced)\n",
    "    \n",
    "    if count % 1000 == 0:\n",
    "        print(count)\n",
    "    count += 1\n",
    "    \n",
    " "
   ]
  }
 ],
 "metadata": {
  "kernelspec": {
   "display_name": "Environment (conda_tensorflow_p36)",
   "language": "python",
   "name": "conda_tensorflow_p36"
  },
  "language_info": {
   "codemirror_mode": {
    "name": "ipython",
    "version": 3
   },
   "file_extension": ".py",
   "mimetype": "text/x-python",
   "name": "python",
   "nbconvert_exporter": "python",
   "pygments_lexer": "ipython3",
   "version": "3.6.5"
  }
 },
 "nbformat": 4,
 "nbformat_minor": 2
}
