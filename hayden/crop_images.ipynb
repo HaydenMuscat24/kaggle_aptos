{
 "cells": [
  {
   "cell_type": "code",
   "execution_count": 1,
   "metadata": {},
   "outputs": [],
   "source": [
    "import os\n",
    "import cv2\n",
    "\n",
    "def squareUp(gray, rgb):\n",
    "    \n",
    "    thresh = 5\n",
    "    \n",
    "    # remove any black regions, where black is y under the threshold\n",
    "    rowMaxes = gray.max(axis=1)\n",
    "    top = 0\n",
    "    while rowMaxes[top] < thresh:\n",
    "        top += 1\n",
    "    bottom = len(rowMaxes) - 1\n",
    "    while rowMaxes[bottom] < thresh:\n",
    "        bottom -= 1\n",
    "        \n",
    "    middleRow = gray[int((bottom-top)/2)]\n",
    "    left = 0\n",
    "    while middleRow[left] < thresh:\n",
    "        left += 1\n",
    "    right = len(middleRow) - 1\n",
    "    while middleRow[right] < thresh:\n",
    "        right -= 1\n",
    "        \n",
    "    height = bottom - top\n",
    "    width  = right - left\n",
    "        \n",
    "    if height < 100 or width < 100:\n",
    "        print(\"Error: squareUp: bottom:\", bottom, \"top:\", top)\n",
    "        print(\"Error: squareUp: right:\", right, \"left:\", left)\n",
    "        return rgb\n",
    "    \n",
    "    return rgb[top:bottom, left:right]\n",
    "    \n"
   ]
  },
  {
   "cell_type": "code",
   "execution_count": 2,
   "metadata": {},
   "outputs": [
    {
     "name": "stdout",
     "output_type": "stream",
     "text": [
      "0\n",
      "1000\n",
      "2000\n",
      "3000\n",
      "4000\n",
      "5000\n",
      "6000\n",
      "7000\n",
      "8000\n",
      "9000\n",
      "10000\n",
      "11000\n",
      "12000\n",
      "13000\n",
      "14000\n",
      "15000\n",
      "16000\n",
      "17000\n",
      "18000\n",
      "19000\n",
      "20000\n",
      "21000\n",
      "22000\n",
      "23000\n",
      "24000\n",
      "25000\n",
      "26000\n"
     ]
    },
    {
     "ename": "KeyboardInterrupt",
     "evalue": "",
     "output_type": "error",
     "traceback": [
      "\u001b[0;31m---------------------------------------------------------------------------\u001b[0m",
      "\u001b[0;31mKeyboardInterrupt\u001b[0m                         Traceback (most recent call last)",
      "\u001b[0;32m<ipython-input-2-bd4b45c0271a>\u001b[0m in \u001b[0;36m<module>\u001b[0;34m()\u001b[0m\n\u001b[1;32m      8\u001b[0m     \u001b[0mfile_full\u001b[0m \u001b[0;34m=\u001b[0m \u001b[0mdirectory\u001b[0m \u001b[0;34m+\u001b[0m \u001b[0mfile\u001b[0m\u001b[0;34m\u001b[0m\u001b[0m\n\u001b[1;32m      9\u001b[0m \u001b[0;34m\u001b[0m\u001b[0m\n\u001b[0;32m---> 10\u001b[0;31m     \u001b[0mimg\u001b[0m \u001b[0;34m=\u001b[0m \u001b[0mcv2\u001b[0m\u001b[0;34m.\u001b[0m\u001b[0mimread\u001b[0m\u001b[0;34m(\u001b[0m\u001b[0mfile_full\u001b[0m\u001b[0;34m)\u001b[0m\u001b[0;34m\u001b[0m\u001b[0m\n\u001b[0m\u001b[1;32m     11\u001b[0m \u001b[0;34m\u001b[0m\u001b[0m\n\u001b[1;32m     12\u001b[0m     \u001b[0mgray\u001b[0m \u001b[0;34m=\u001b[0m \u001b[0mcv2\u001b[0m\u001b[0;34m.\u001b[0m\u001b[0mcvtColor\u001b[0m\u001b[0;34m(\u001b[0m\u001b[0mimg\u001b[0m\u001b[0;34m,\u001b[0m \u001b[0mcv2\u001b[0m\u001b[0;34m.\u001b[0m\u001b[0mCOLOR_BGR2GRAY\u001b[0m\u001b[0;34m)\u001b[0m\u001b[0;34m\u001b[0m\u001b[0m\n",
      "\u001b[0;31mKeyboardInterrupt\u001b[0m: "
     ]
    }
   ],
   "source": [
    "directory = \"../aptos2015/train_images/\" \n",
    "count = 0\n",
    "for file in os.listdir(directory):\n",
    "    if not file.endswith(\".jpeg\"): \n",
    "        print(\"found weird file:\", file)\n",
    "        exit()\n",
    "      \n",
    "    if count % 1000 == 0:\n",
    "        print(count)\n",
    "    count += 1  \n",
    "    \n",
    "    if count < 26000:\n",
    "        continue\n",
    "        \n",
    "    file_full = directory + file\n",
    "        \n",
    "    img = cv2.imread(file_full)\n",
    "    \n",
    "    gray = cv2.cvtColor(img, cv2.COLOR_BGR2GRAY)\n",
    "    reduced = squareUp(gray, img)\n",
    "    \n",
    "    cv2.imwrite(file_full, reduced)\n",
    "    \n",
    "    \n",
    " "
   ]
  }
 ],
 "metadata": {
  "kernelspec": {
   "display_name": "Environment (conda_tensorflow_p36)",
   "language": "python",
   "name": "conda_tensorflow_p36"
  },
  "language_info": {
   "codemirror_mode": {
    "name": "ipython",
    "version": 3
   },
   "file_extension": ".py",
   "mimetype": "text/x-python",
   "name": "python",
   "nbconvert_exporter": "python",
   "pygments_lexer": "ipython3",
   "version": "3.6.5"
  }
 },
 "nbformat": 4,
 "nbformat_minor": 2
}
